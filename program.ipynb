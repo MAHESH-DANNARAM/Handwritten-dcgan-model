{
 "cells": [
  {
   "cell_type": "code",
   "execution_count": 1,
   "source": [
    "import numpy as np\r\n",
    "import matplotlib.pyplot as plt\r\n",
    "import keras\r\n",
    "import tensorflow as tf\r\n",
    "from keras.datasets import mnist\r\n",
    "from keras.models import Sequential\r\n",
    "from keras.layers import Conv2D\r\n",
    "from keras.layers import MaxPool2D\r\n",
    "from keras.layers import Flatten\r\n",
    "from keras.layers import Dense\r\n",
    "from keras.layers import Dropout\r\n",
    "#callbacks\r\n",
    "from keras.callbacks import EarlyStopping, ModelCheckpoint"
   ],
   "outputs": [],
   "metadata": {}
  },
  {
   "cell_type": "code",
   "execution_count": 2,
   "source": [
    "(x_train, y_train), (x_test, y_test) = mnist.load_data()"
   ],
   "outputs": [],
   "metadata": {}
  },
  {
   "cell_type": "markdown",
   "source": [
    "# Get the data and pre-process it"
   ],
   "metadata": {}
  },
  {
   "cell_type": "code",
   "execution_count": 3,
   "source": [
    "x_train.shape , y_train.shape ,x_test.shape ,y_test.shape"
   ],
   "outputs": [
    {
     "output_type": "execute_result",
     "data": {
      "text/plain": [
       "((60000, 28, 28), (60000,), (10000, 28, 28), (10000,))"
      ]
     },
     "metadata": {},
     "execution_count": 3
    }
   ],
   "metadata": {}
  },
  {
   "cell_type": "code",
   "execution_count": 4,
   "source": [
    "plt.imshow(x_train[0],cmap='binary')"
   ],
   "outputs": [
    {
     "output_type": "execute_result",
     "data": {
      "text/plain": [
       "<matplotlib.image.AxesImage at 0x1d2ade16250>"
      ]
     },
     "metadata": {},
     "execution_count": 4
    },
    {
     "output_type": "display_data",
     "data": {
      "image/png": "[encoded data removed]",
      "text/plain": [
       "<Figure size 432x288 with 1 Axes>"
      ]
     },
     "metadata": {
      "needs_background": "light"
     }
    }
   ],
   "metadata": {}
  },
  {
   "cell_type": "code",
   "execution_count": 5,
   "source": [
    "def plot_input_img(i):\r\n",
    "    plt.imshow(x_train[i],cmap='binary')\r\n",
    "    plt.title(y_train[i])\r\n",
    "    plt.axis('off')\r\n",
    "    plt.show()"
   ],
   "outputs": [],
   "metadata": {}
  },
  {
   "cell_type": "code",
   "execution_count": 6,
   "source": [
    "for i in range(10):\r\n",
    "    plot_input_img(i)"
   ],
   "outputs": [
    {
     "output_type": "display_data",
     "data": {
      "image/png": "[encoded data removed]",
      "text/plain": [
       "<Figure size 432x288 with 1 Axes>"
      ]
     },
     "metadata": {
      "needs_background": "light"
     }
    },
    {
     "output_type": "display_data",
     "data": {
      "image/png": "[encoded data removed]",
      "text/plain": [
       "<Figure size 432x288 with 1 Axes>"
      ]
     },
     "metadata": {
      "needs_background": "light"
     }
    },
    {
     "output_type": "display_data",
     "data": {
      "image/png": "[encoded data removed]",
      "text/plain": [
       "<Figure size 432x288 with 1 Axes>"
      ]
     },
     "metadata": {
      "needs_background": "light"
     }
    },
    {
     "output_type": "display_data",
     "data": {
      "image/png": "[encoded data removed]",
      "text/plain": [
       "<Figure size 432x288 with 1 Axes>"
      ]
     },
     "metadata": {
      "needs_background": "light"
     }
    },
    {
     "output_type": "display_data",
     "data": {
      "image/png": "[encoded data removed]",
      "text/plain": [
       "<Figure size 432x288 with 1 Axes>"
      ]
     },
     "metadata": {
      "needs_background": "light"
     }
    },
    {
     "output_type": "display_data",
     "data": {
      "image/png": "[encoded data removed]",
      "text/plain": [
       "<Figure size 432x288 with 1 Axes>"
      ]
     },
     "metadata": {
      "needs_background": "light"
     }
    },
    {
     "output_type": "display_data",
     "data": {
      "image/png": "[encoded data removed]",
      "text/plain": [
       "<Figure size 432x288 with 1 Axes>"
      ]
     },
     "metadata": {
      "needs_background": "light"
     }
    },
    {
     "output_type": "display_data",
     "data": {
      "image/png": "[encoded data removed]",
      "text/plain": [
       "<Figure size 432x288 with 1 Axes>"
      ]
     },
     "metadata": {
      "needs_background": "light"
     }
    },
    {
     "output_type": "display_data",
     "data": {
      "image/png": "[encoded data removed]",
      "text/plain": [
       "<Figure size 432x288 with 1 Axes>"
      ]
     },
     "metadata": {
      "needs_background": "light"
     }
    },
    {
     "output_type": "display_data",
     "data": {
      "image/png": "[encoded data removed]",
      "text/plain": [
       "<Figure size 432x288 with 1 Axes>"
      ]
     },
     "metadata": {
      "needs_background": "light"
     }
    }
   ],
   "metadata": {}
  },
  {
   "cell_type": "code",
   "execution_count": 7,
   "source": [
    "#pre process the images\r\n",
    "#normalizing the image to [0,1] range\r\n",
    "x_train = x_train.astype(np.float32)/225\r\n",
    "x_test = x_test.astype(np.float32)/225"
   ],
   "outputs": [],
   "metadata": {}
  },
  {
   "cell_type": "code",
   "execution_count": 8,
   "source": [
    "#reshape or expand the dimentions of images to (28,28,1)\r\n",
    "x_train = np.expand_dims(x_train,-1)\r\n",
    "x_test = np.expand_dims(x_test, -1)"
   ],
   "outputs": [],
   "metadata": {}
  },
  {
   "cell_type": "code",
   "execution_count": 9,
   "source": [
    "#convert classes to one hot vectors\r\n",
    "y_train = keras.utils.to_categorical(y_train)"
   ],
   "outputs": [],
   "metadata": {}
  },
  {
   "cell_type": "code",
   "execution_count": 10,
   "source": [
    "y_train"
   ],
   "outputs": [
    {
     "output_type": "execute_result",
     "data": {
      "text/plain": [
       "array([[0., 0., 0., ..., 0., 0., 0.],\n",
       "       [1., 0., 0., ..., 0., 0., 0.],\n",
       "       [0., 0., 0., ..., 0., 0., 0.],\n",
       "       ...,\n",
       "       [0., 0., 0., ..., 0., 0., 0.],\n",
       "       [0., 0., 0., ..., 0., 0., 0.],\n",
       "       [0., 0., 0., ..., 0., 1., 0.]], dtype=float32)"
      ]
     },
     "metadata": {},
     "execution_count": 10
    }
   ],
   "metadata": {}
  },
  {
   "cell_type": "code",
   "execution_count": 11,
   "source": [
    "y_test = keras.utils.to_categorical(y_test)"
   ],
   "outputs": [],
   "metadata": {}
  },
  {
   "cell_type": "code",
   "execution_count": 12,
   "source": [
    "model = Sequential()"
   ],
   "outputs": [],
   "metadata": {}
  },
  {
   "cell_type": "code",
   "execution_count": 13,
   "source": [
    "model.add(Conv2D(32,(3,3), input_shape = (28,28,1), activation= 'relu'))\r\n",
    "model.add(MaxPool2D((2,2)))"
   ],
   "outputs": [],
   "metadata": {}
  },
  {
   "cell_type": "code",
   "execution_count": 14,
   "source": [
    "model.add(Conv2D(64,(3,3), activation= 'relu'))\r\n",
    "model.add(MaxPool2D((2,2)))"
   ],
   "outputs": [],
   "metadata": {}
  },
  {
   "cell_type": "code",
   "execution_count": 15,
   "source": [
    "model.add(Flatten())\r\n",
    "model.add(Dropout(0.25))\r\n",
    "model.add(Dense(10, activation='softmax'))"
   ],
   "outputs": [],
   "metadata": {}
  },
  {
   "cell_type": "code",
   "execution_count": 16,
   "source": [
    "model.summary()"
   ],
   "outputs": [
    {
     "output_type": "stream",
     "name": "stdout",
     "text": [
      "Model: \"sequential\"\n",
      "_________________________________________________________________\n",
      "Layer (type)                 Output Shape              Param #   \n",
      "=================================================================\n",
      "conv2d (Conv2D)              (None, 26, 26, 32)        320       \n",
      "_________________________________________________________________\n",
      "max_pooling2d (MaxPooling2D) (None, 13, 13, 32)        0         \n",
      "_________________________________________________________________\n",
      "conv2d_1 (Conv2D)            (None, 11, 11, 64)        18496     \n",
      "_________________________________________________________________\n",
      "max_pooling2d_1 (MaxPooling2 (None, 5, 5, 64)          0         \n",
      "_________________________________________________________________\n",
      "flatten (Flatten)            (None, 1600)              0         \n",
      "_________________________________________________________________\n",
      "dropout (Dropout)            (None, 1600)              0         \n",
      "_________________________________________________________________\n",
      "dense (Dense)                (None, 10)                16010     \n",
      "=================================================================\n",
      "Total params: 34,826\n",
      "Trainable params: 34,826\n",
      "Non-trainable params: 0\n",
      "_________________________________________________________________\n"
     ]
    }
   ],
   "metadata": {}
  },
  {
   "cell_type": "code",
   "execution_count": 17,
   "source": [
    "model.compile(optimizer='adam', loss = keras.losses.categorical_crossentropy, metrics=['accuracy'])"
   ],
   "outputs": [],
   "metadata": {}
  },
  {
   "cell_type": "code",
   "execution_count": 18,
   "source": [
    "# Earlystopping\r\n",
    "es = EarlyStopping(monitor='val_acc',min_delta=0.01,patience=4,verbose=1)"
   ],
   "outputs": [],
   "metadata": {}
  },
  {
   "cell_type": "code",
   "execution_count": 19,
   "source": [
    "# Model check point\r\n",
    "mc = ModelCheckpoint(\"./bestmodel.h5\", monitor='val_acc', verbose=1, save_best_only= True)\r\n",
    "cb =[es,mc]"
   ],
   "outputs": [],
   "metadata": {}
  },
  {
   "cell_type": "code",
   "execution_count": 20,
   "source": [
    "his =model.fit(x_train, y_train, epochs=50, validation_split=0.3,callbacks=cb)"
   ],
   "outputs": [
    {
     "output_type": "stream",
     "name": "stdout",
     "text": [
      "Epoch 1/50\n",
      "1310/1313 [============================>.] - ETA: 0s - loss: 0.2127 - accuracy: 0.9353WARNING:tensorflow:Early stopping conditioned on metric `val_acc` which is not available. Available metrics are: loss,accuracy,val_loss,val_accuracy\n",
      "WARNING:tensorflow:Can save best model only with val_acc available, skipping.\n",
      "1313/1313 [==============================] - 16s 12ms/step - loss: 0.2126 - accuracy: 0.9353 - val_loss: 0.0776 - val_accuracy: 0.9772\n",
      "Epoch 2/50\n",
      "1309/1313 [============================>.] - ETA: 0s - loss: 0.0718 - accuracy: 0.9778WARNING:tensorflow:Early stopping conditioned on metric `val_acc` which is not available. Available metrics are: loss,accuracy,val_loss,val_accuracy\n",
      "WARNING:tensorflow:Can save best model only with val_acc available, skipping.\n",
      "1313/1313 [==============================] - 15s 12ms/step - loss: 0.0718 - accuracy: 0.9778 - val_loss: 0.0622 - val_accuracy: 0.9808\n",
      "Epoch 3/50\n",
      "1312/1313 [============================>.] - ETA: 0s - loss: 0.0529 - accuracy: 0.9839WARNING:tensorflow:Early stopping conditioned on metric `val_acc` which is not available. Available metrics are: loss,accuracy,val_loss,val_accuracy\n",
      "WARNING:tensorflow:Can save best model only with val_acc available, skipping.\n",
      "1313/1313 [==============================] - 15s 11ms/step - loss: 0.0529 - accuracy: 0.9839 - val_loss: 0.0507 - val_accuracy: 0.9842\n",
      "Epoch 4/50\n",
      "1310/1313 [============================>.] - ETA: 0s - loss: 0.0442 - accuracy: 0.9860WARNING:tensorflow:Early stopping conditioned on metric `val_acc` which is not available. Available metrics are: loss,accuracy,val_loss,val_accuracy\n",
      "WARNING:tensorflow:Can save best model only with val_acc available, skipping.\n",
      "1313/1313 [==============================] - 15s 11ms/step - loss: 0.0443 - accuracy: 0.9860 - val_loss: 0.0447 - val_accuracy: 0.9858\n",
      "Epoch 5/50\n",
      "1309/1313 [============================>.] - ETA: 0s - loss: 0.0354 - accuracy: 0.9885WARNING:tensorflow:Early stopping conditioned on metric `val_acc` which is not available. Available metrics are: loss,accuracy,val_loss,val_accuracy\n",
      "WARNING:tensorflow:Can save best model only with val_acc available, skipping.\n",
      "1313/1313 [==============================] - 15s 11ms/step - loss: 0.0353 - accuracy: 0.9885 - val_loss: 0.0406 - val_accuracy: 0.9878\n",
      "Epoch 6/50\n",
      "1309/1313 [============================>.] - ETA: 0s - loss: 0.0317 - accuracy: 0.9895WARNING:tensorflow:Early stopping conditioned on metric `val_acc` which is not available. Available metrics are: loss,accuracy,val_loss,val_accuracy\n",
      "WARNING:tensorflow:Can save best model only with val_acc available, skipping.\n",
      "1313/1313 [==============================] - 15s 12ms/step - loss: 0.0317 - accuracy: 0.9896 - val_loss: 0.0428 - val_accuracy: 0.9879\n",
      "Epoch 7/50\n",
      "1311/1313 [============================>.] - ETA: 0s - loss: 0.0288 - accuracy: 0.9904WARNING:tensorflow:Early stopping conditioned on metric `val_acc` which is not available. Available metrics are: loss,accuracy,val_loss,val_accuracy\n",
      "WARNING:tensorflow:Can save best model only with val_acc available, skipping.\n",
      "1313/1313 [==============================] - 16s 12ms/step - loss: 0.0288 - accuracy: 0.9905 - val_loss: 0.0414 - val_accuracy: 0.9879\n",
      "Epoch 8/50\n",
      "1311/1313 [============================>.] - ETA: 0s - loss: 0.0249 - accuracy: 0.9918WARNING:tensorflow:Early stopping conditioned on metric `val_acc` which is not available. Available metrics are: loss,accuracy,val_loss,val_accuracy\n",
      "WARNING:tensorflow:Can save best model only with val_acc available, skipping.\n",
      "1313/1313 [==============================] - 15s 12ms/step - loss: 0.0248 - accuracy: 0.9918 - val_loss: 0.0361 - val_accuracy: 0.9889\n",
      "Epoch 9/50\n",
      "1310/1313 [============================>.] - ETA: 0s - loss: 0.0226 - accuracy: 0.9927WARNING:tensorflow:Early stopping conditioned on metric `val_acc` which is not available. Available metrics are: loss,accuracy,val_loss,val_accuracy\n",
      "WARNING:tensorflow:Can save best model only with val_acc available, skipping.\n",
      "1313/1313 [==============================] - 16s 12ms/step - loss: 0.0226 - accuracy: 0.9927 - val_loss: 0.0360 - val_accuracy: 0.9898\n",
      "Epoch 10/50\n",
      "1310/1313 [============================>.] - ETA: 0s - loss: 0.0200 - accuracy: 0.9931WARNING:tensorflow:Early stopping conditioned on metric `val_acc` which is not available. Available metrics are: loss,accuracy,val_loss,val_accuracy\n",
      "WARNING:tensorflow:Can save best model only with val_acc available, skipping.\n",
      "1313/1313 [==============================] - 16s 12ms/step - loss: 0.0200 - accuracy: 0.9931 - val_loss: 0.0373 - val_accuracy: 0.9895\n",
      "Epoch 11/50\n",
      "1312/1313 [============================>.] - ETA: 0s - loss: 0.0183 - accuracy: 0.9937WARNING:tensorflow:Early stopping conditioned on metric `val_acc` which is not available. Available metrics are: loss,accuracy,val_loss,val_accuracy\n",
      "WARNING:tensorflow:Can save best model only with val_acc available, skipping.\n",
      "1313/1313 [==============================] - 15s 12ms/step - loss: 0.0182 - accuracy: 0.9937 - val_loss: 0.0377 - val_accuracy: 0.9894\n",
      "Epoch 12/50\n",
      "1309/1313 [============================>.] - ETA: 0s - loss: 0.0164 - accuracy: 0.9944WARNING:tensorflow:Early stopping conditioned on metric `val_acc` which is not available. Available metrics are: loss,accuracy,val_loss,val_accuracy\n",
      "WARNING:tensorflow:Can save best model only with val_acc available, skipping.\n",
      "1313/1313 [==============================] - 15s 12ms/step - loss: 0.0165 - accuracy: 0.9944 - val_loss: 0.0363 - val_accuracy: 0.9898\n",
      "Epoch 13/50\n",
      "1311/1313 [============================>.] - ETA: 0s - loss: 0.0159 - accuracy: 0.9942WARNING:tensorflow:Early stopping conditioned on metric `val_acc` which is not available. Available metrics are: loss,accuracy,val_loss,val_accuracy\n",
      "WARNING:tensorflow:Can save best model only with val_acc available, skipping.\n",
      "1313/1313 [==============================] - 15s 12ms/step - loss: 0.0159 - accuracy: 0.9942 - val_loss: 0.0424 - val_accuracy: 0.9894\n",
      "Epoch 14/50\n",
      "1309/1313 [============================>.] - ETA: 0s - loss: 0.0134 - accuracy: 0.9954WARNING:tensorflow:Early stopping conditioned on metric `val_acc` which is not available. Available metrics are: loss,accuracy,val_loss,val_accuracy\n",
      "WARNING:tensorflow:Can save best model only with val_acc available, skipping.\n",
      "1313/1313 [==============================] - 15s 11ms/step - loss: 0.0134 - accuracy: 0.9954 - val_loss: 0.0370 - val_accuracy: 0.9904\n",
      "Epoch 15/50\n",
      "1312/1313 [============================>.] - ETA: 0s - loss: 0.0144 - accuracy: 0.9951WARNING:tensorflow:Early stopping conditioned on metric `val_acc` which is not available. Available metrics are: loss,accuracy,val_loss,val_accuracy\n",
      "WARNING:tensorflow:Can save best model only with val_acc available, skipping.\n",
      "1313/1313 [==============================] - 15s 11ms/step - loss: 0.0144 - accuracy: 0.9951 - val_loss: 0.0392 - val_accuracy: 0.9899\n",
      "Epoch 16/50\n",
      "1311/1313 [============================>.] - ETA: 0s - loss: 0.0124 - accuracy: 0.9956WARNING:tensorflow:Early stopping conditioned on metric `val_acc` which is not available. Available metrics are: loss,accuracy,val_loss,val_accuracy\n",
      "WARNING:tensorflow:Can save best model only with val_acc available, skipping.\n",
      "1313/1313 [==============================] - 15s 11ms/step - loss: 0.0124 - accuracy: 0.9956 - val_loss: 0.0439 - val_accuracy: 0.9898\n",
      "Epoch 17/50\n",
      "1309/1313 [============================>.] - ETA: 0s - loss: 0.0115 - accuracy: 0.9961WARNING:tensorflow:Early stopping conditioned on metric `val_acc` which is not available. Available metrics are: loss,accuracy,val_loss,val_accuracy\n",
      "WARNING:tensorflow:Can save best model only with val_acc available, skipping.\n",
      "1313/1313 [==============================] - 15s 12ms/step - loss: 0.0115 - accuracy: 0.9961 - val_loss: 0.0438 - val_accuracy: 0.9897\n",
      "Epoch 18/50\n",
      "1310/1313 [============================>.] - ETA: 0s - loss: 0.0123 - accuracy: 0.9956WARNING:tensorflow:Early stopping conditioned on metric `val_acc` which is not available. Available metrics are: loss,accuracy,val_loss,val_accuracy\n",
      "WARNING:tensorflow:Can save best model only with val_acc available, skipping.\n",
      "1313/1313 [==============================] - 15s 11ms/step - loss: 0.0123 - accuracy: 0.9956 - val_loss: 0.0415 - val_accuracy: 0.9899\n",
      "Epoch 19/50\n",
      "1308/1313 [============================>.] - ETA: 0s - loss: 0.0097 - accuracy: 0.9967WARNING:tensorflow:Early stopping conditioned on metric `val_acc` which is not available. Available metrics are: loss,accuracy,val_loss,val_accuracy\n",
      "WARNING:tensorflow:Can save best model only with val_acc available, skipping.\n",
      "1313/1313 [==============================] - 15s 12ms/step - loss: 0.0097 - accuracy: 0.9967 - val_loss: 0.0433 - val_accuracy: 0.9908\n",
      "Epoch 20/50\n",
      "1312/1313 [============================>.] - ETA: 0s - loss: 0.0094 - accuracy: 0.9965WARNING:tensorflow:Early stopping conditioned on metric `val_acc` which is not available. Available metrics are: loss,accuracy,val_loss,val_accuracy\n",
      "WARNING:tensorflow:Can save best model only with val_acc available, skipping.\n",
      "1313/1313 [==============================] - 15s 12ms/step - loss: 0.0094 - accuracy: 0.9965 - val_loss: 0.0425 - val_accuracy: 0.9905\n",
      "Epoch 21/50\n",
      "1308/1313 [============================>.] - ETA: 0s - loss: 0.0087 - accuracy: 0.9974WARNING:tensorflow:Early stopping conditioned on metric `val_acc` which is not available. Available metrics are: loss,accuracy,val_loss,val_accuracy\n",
      "WARNING:tensorflow:Can save best model only with val_acc available, skipping.\n",
      "1313/1313 [==============================] - 15s 11ms/step - loss: 0.0088 - accuracy: 0.9974 - val_loss: 0.0455 - val_accuracy: 0.9902\n",
      "Epoch 22/50\n",
      "1312/1313 [============================>.] - ETA: 0s - loss: 0.0112 - accuracy: 0.9961WARNING:tensorflow:Early stopping conditioned on metric `val_acc` which is not available. Available metrics are: loss,accuracy,val_loss,val_accuracy\n",
      "WARNING:tensorflow:Can save best model only with val_acc available, skipping.\n",
      "1313/1313 [==============================] - 15s 12ms/step - loss: 0.0112 - accuracy: 0.9961 - val_loss: 0.0465 - val_accuracy: 0.9901\n",
      "Epoch 23/50\n",
      "1308/1313 [============================>.] - ETA: 0s - loss: 0.0086 - accuracy: 0.9969WARNING:tensorflow:Early stopping conditioned on metric `val_acc` which is not available. Available metrics are: loss,accuracy,val_loss,val_accuracy\n",
      "WARNING:tensorflow:Can save best model only with val_acc available, skipping.\n",
      "1313/1313 [==============================] - 15s 11ms/step - loss: 0.0085 - accuracy: 0.9969 - val_loss: 0.0431 - val_accuracy: 0.9910\n",
      "Epoch 24/50\n",
      "1313/1313 [==============================] - ETA: 0s - loss: 0.0093 - accuracy: 0.9970WARNING:tensorflow:Early stopping conditioned on metric `val_acc` which is not available. Available metrics are: loss,accuracy,val_loss,val_accuracy\n",
      "WARNING:tensorflow:Can save best model only with val_acc available, skipping.\n",
      "1313/1313 [==============================] - 15s 11ms/step - loss: 0.0093 - accuracy: 0.9970 - val_loss: 0.0455 - val_accuracy: 0.9899\n",
      "Epoch 25/50\n",
      "1310/1313 [============================>.] - ETA: 0s - loss: 0.0082 - accuracy: 0.9972WARNING:tensorflow:Early stopping conditioned on metric `val_acc` which is not available. Available metrics are: loss,accuracy,val_loss,val_accuracy\n",
      "WARNING:tensorflow:Can save best model only with val_acc available, skipping.\n",
      "1313/1313 [==============================] - 14s 11ms/step - loss: 0.0082 - accuracy: 0.9972 - val_loss: 0.0454 - val_accuracy: 0.9905\n",
      "Epoch 26/50\n",
      "1310/1313 [============================>.] - ETA: 0s - loss: 0.0083 - accuracy: 0.9969WARNING:tensorflow:Early stopping conditioned on metric `val_acc` which is not available. Available metrics are: loss,accuracy,val_loss,val_accuracy\n",
      "WARNING:tensorflow:Can save best model only with val_acc available, skipping.\n",
      "1313/1313 [==============================] - 15s 11ms/step - loss: 0.0083 - accuracy: 0.9969 - val_loss: 0.0479 - val_accuracy: 0.9903\n",
      "Epoch 27/50\n",
      "1308/1313 [============================>.] - ETA: 0s - loss: 0.0080 - accuracy: 0.9973WARNING:tensorflow:Early stopping conditioned on metric `val_acc` which is not available. Available metrics are: loss,accuracy,val_loss,val_accuracy\n",
      "WARNING:tensorflow:Can save best model only with val_acc available, skipping.\n",
      "1313/1313 [==============================] - 14s 11ms/step - loss: 0.0080 - accuracy: 0.9973 - val_loss: 0.0438 - val_accuracy: 0.9909\n",
      "Epoch 28/50\n",
      "1311/1313 [============================>.] - ETA: 0s - loss: 0.0070 - accuracy: 0.9973WARNING:tensorflow:Early stopping conditioned on metric `val_acc` which is not available. Available metrics are: loss,accuracy,val_loss,val_accuracy\n",
      "WARNING:tensorflow:Can save best model only with val_acc available, skipping.\n",
      "1313/1313 [==============================] - 14s 11ms/step - loss: 0.0070 - accuracy: 0.9973 - val_loss: 0.0429 - val_accuracy: 0.9909\n",
      "Epoch 29/50\n",
      "1311/1313 [============================>.] - ETA: 0s - loss: 0.0075 - accuracy: 0.9976WARNING:tensorflow:Early stopping conditioned on metric `val_acc` which is not available. Available metrics are: loss,accuracy,val_loss,val_accuracy\n",
      "WARNING:tensorflow:Can save best model only with val_acc available, skipping.\n",
      "1313/1313 [==============================] - 14s 11ms/step - loss: 0.0075 - accuracy: 0.9976 - val_loss: 0.0419 - val_accuracy: 0.9902\n",
      "Epoch 30/50\n",
      "1310/1313 [============================>.] - ETA: 0s - loss: 0.0078 - accuracy: 0.9972WARNING:tensorflow:Early stopping conditioned on metric `val_acc` which is not available. Available metrics are: loss,accuracy,val_loss,val_accuracy\n",
      "WARNING:tensorflow:Can save best model only with val_acc available, skipping.\n",
      "1313/1313 [==============================] - 15s 11ms/step - loss: 0.0078 - accuracy: 0.9972 - val_loss: 0.0503 - val_accuracy: 0.9898\n",
      "Epoch 31/50\n",
      "1310/1313 [============================>.] - ETA: 0s - loss: 0.0075 - accuracy: 0.9974WARNING:tensorflow:Early stopping conditioned on metric `val_acc` which is not available. Available metrics are: loss,accuracy,val_loss,val_accuracy\n",
      "WARNING:tensorflow:Can save best model only with val_acc available, skipping.\n",
      "1313/1313 [==============================] - 15s 11ms/step - loss: 0.0075 - accuracy: 0.9974 - val_loss: 0.0490 - val_accuracy: 0.9906\n",
      "Epoch 32/50\n",
      "1308/1313 [============================>.] - ETA: 0s - loss: 0.0066 - accuracy: 0.9978WARNING:tensorflow:Early stopping conditioned on metric `val_acc` which is not available. Available metrics are: loss,accuracy,val_loss,val_accuracy\n",
      "WARNING:tensorflow:Can save best model only with val_acc available, skipping.\n",
      "1313/1313 [==============================] - 14s 11ms/step - loss: 0.0066 - accuracy: 0.9978 - val_loss: 0.0444 - val_accuracy: 0.9914\n",
      "Epoch 33/50\n",
      "1312/1313 [============================>.] - ETA: 0s - loss: 0.0070 - accuracy: 0.9975WARNING:tensorflow:Early stopping conditioned on metric `val_acc` which is not available. Available metrics are: loss,accuracy,val_loss,val_accuracy\n",
      "WARNING:tensorflow:Can save best model only with val_acc available, skipping.\n",
      "1313/1313 [==============================] - 14s 11ms/step - loss: 0.0070 - accuracy: 0.9975 - val_loss: 0.0506 - val_accuracy: 0.9904\n",
      "Epoch 34/50\n",
      "1310/1313 [============================>.] - ETA: 0s - loss: 0.0067 - accuracy: 0.9979WARNING:tensorflow:Early stopping conditioned on metric `val_acc` which is not available. Available metrics are: loss,accuracy,val_loss,val_accuracy\n",
      "WARNING:tensorflow:Can save best model only with val_acc available, skipping.\n",
      "1313/1313 [==============================] - 15s 11ms/step - loss: 0.0068 - accuracy: 0.9979 - val_loss: 0.0485 - val_accuracy: 0.9907\n",
      "Epoch 35/50\n",
      "1313/1313 [==============================] - ETA: 0s - loss: 0.0070 - accuracy: 0.9979WARNING:tensorflow:Early stopping conditioned on metric `val_acc` which is not available. Available metrics are: loss,accuracy,val_loss,val_accuracy\n",
      "WARNING:tensorflow:Can save best model only with val_acc available, skipping.\n",
      "1313/1313 [==============================] - 14s 11ms/step - loss: 0.0070 - accuracy: 0.9979 - val_loss: 0.0455 - val_accuracy: 0.9911\n",
      "Epoch 36/50\n",
      "1311/1313 [============================>.] - ETA: 0s - loss: 0.0061 - accuracy: 0.9977WARNING:tensorflow:Early stopping conditioned on metric `val_acc` which is not available. Available metrics are: loss,accuracy,val_loss,val_accuracy\n",
      "WARNING:tensorflow:Can save best model only with val_acc available, skipping.\n",
      "1313/1313 [==============================] - 15s 11ms/step - loss: 0.0061 - accuracy: 0.9977 - val_loss: 0.0451 - val_accuracy: 0.9918\n",
      "Epoch 37/50\n",
      "1310/1313 [============================>.] - ETA: 0s - loss: 0.0059 - accuracy: 0.9979WARNING:tensorflow:Early stopping conditioned on metric `val_acc` which is not available. Available metrics are: loss,accuracy,val_loss,val_accuracy\n",
      "WARNING:tensorflow:Can save best model only with val_acc available, skipping.\n",
      "1313/1313 [==============================] - 14s 11ms/step - loss: 0.0059 - accuracy: 0.9979 - val_loss: 0.0504 - val_accuracy: 0.9906\n",
      "Epoch 38/50\n",
      "1308/1313 [============================>.] - ETA: 0s - loss: 0.0063 - accuracy: 0.9979WARNING:tensorflow:Early stopping conditioned on metric `val_acc` which is not available. Available metrics are: loss,accuracy,val_loss,val_accuracy\n",
      "WARNING:tensorflow:Can save best model only with val_acc available, skipping.\n",
      "1313/1313 [==============================] - 15s 11ms/step - loss: 0.0063 - accuracy: 0.9979 - val_loss: 0.0547 - val_accuracy: 0.9899\n",
      "Epoch 39/50\n",
      "1309/1313 [============================>.] - ETA: 0s - loss: 0.0070 - accuracy: 0.9977WARNING:tensorflow:Early stopping conditioned on metric `val_acc` which is not available. Available metrics are: loss,accuracy,val_loss,val_accuracy\n",
      "WARNING:tensorflow:Can save best model only with val_acc available, skipping.\n",
      "1313/1313 [==============================] - 14s 11ms/step - loss: 0.0069 - accuracy: 0.9977 - val_loss: 0.0516 - val_accuracy: 0.9901\n",
      "Epoch 40/50\n",
      "1313/1313 [==============================] - ETA: 0s - loss: 0.0068 - accuracy: 0.9979WARNING:tensorflow:Early stopping conditioned on metric `val_acc` which is not available. Available metrics are: loss,accuracy,val_loss,val_accuracy\n",
      "WARNING:tensorflow:Can save best model only with val_acc available, skipping.\n",
      "1313/1313 [==============================] - 14s 11ms/step - loss: 0.0068 - accuracy: 0.9979 - val_loss: 0.0604 - val_accuracy: 0.9901\n",
      "Epoch 41/50\n",
      "1311/1313 [============================>.] - ETA: 0s - loss: 0.0067 - accuracy: 0.9975WARNING:tensorflow:Early stopping conditioned on metric `val_acc` which is not available. Available metrics are: loss,accuracy,val_loss,val_accuracy\n",
      "WARNING:tensorflow:Can save best model only with val_acc available, skipping.\n",
      "1313/1313 [==============================] - 14s 11ms/step - loss: 0.0067 - accuracy: 0.9975 - val_loss: 0.0485 - val_accuracy: 0.9911\n",
      "Epoch 42/50\n",
      "1313/1313 [==============================] - ETA: 0s - loss: 0.0057 - accuracy: 0.9981WARNING:tensorflow:Early stopping conditioned on metric `val_acc` which is not available. Available metrics are: loss,accuracy,val_loss,val_accuracy\n",
      "WARNING:tensorflow:Can save best model only with val_acc available, skipping.\n",
      "1313/1313 [==============================] - 15s 12ms/step - loss: 0.0057 - accuracy: 0.9981 - val_loss: 0.0527 - val_accuracy: 0.9901\n",
      "Epoch 43/50\n",
      "1309/1313 [============================>.] - ETA: 0s - loss: 0.0051 - accuracy: 0.9982WARNING:tensorflow:Early stopping conditioned on metric `val_acc` which is not available. Available metrics are: loss,accuracy,val_loss,val_accuracy\n",
      "WARNING:tensorflow:Can save best model only with val_acc available, skipping.\n",
      "1313/1313 [==============================] - 15s 11ms/step - loss: 0.0051 - accuracy: 0.9982 - val_loss: 0.0542 - val_accuracy: 0.9903\n",
      "Epoch 44/50\n",
      "1312/1313 [============================>.] - ETA: 0s - loss: 0.0053 - accuracy: 0.9983WARNING:tensorflow:Early stopping conditioned on metric `val_acc` which is not available. Available metrics are: loss,accuracy,val_loss,val_accuracy\n",
      "WARNING:tensorflow:Can save best model only with val_acc available, skipping.\n",
      "1313/1313 [==============================] - 15s 11ms/step - loss: 0.0053 - accuracy: 0.9983 - val_loss: 0.0549 - val_accuracy: 0.9901\n",
      "Epoch 45/50\n",
      "1309/1313 [============================>.] - ETA: 0s - loss: 0.0059 - accuracy: 0.9978WARNING:tensorflow:Early stopping conditioned on metric `val_acc` which is not available. Available metrics are: loss,accuracy,val_loss,val_accuracy\n",
      "WARNING:tensorflow:Can save best model only with val_acc available, skipping.\n",
      "1313/1313 [==============================] - 14s 11ms/step - loss: 0.0059 - accuracy: 0.9978 - val_loss: 0.0558 - val_accuracy: 0.9898\n",
      "Epoch 46/50\n",
      "1312/1313 [============================>.] - ETA: 0s - loss: 0.0053 - accuracy: 0.9983WARNING:tensorflow:Early stopping conditioned on metric `val_acc` which is not available. Available metrics are: loss,accuracy,val_loss,val_accuracy\n",
      "WARNING:tensorflow:Can save best model only with val_acc available, skipping.\n",
      "1313/1313 [==============================] - 15s 11ms/step - loss: 0.0053 - accuracy: 0.9983 - val_loss: 0.0545 - val_accuracy: 0.9905\n",
      "Epoch 47/50\n",
      "1310/1313 [============================>.] - ETA: 0s - loss: 0.0048 - accuracy: 0.9983WARNING:tensorflow:Early stopping conditioned on metric `val_acc` which is not available. Available metrics are: loss,accuracy,val_loss,val_accuracy\n",
      "WARNING:tensorflow:Can save best model only with val_acc available, skipping.\n",
      "1313/1313 [==============================] - 15s 11ms/step - loss: 0.0048 - accuracy: 0.9983 - val_loss: 0.0638 - val_accuracy: 0.9899\n",
      "Epoch 48/50\n",
      "1310/1313 [============================>.] - ETA: 0s - loss: 0.0057 - accuracy: 0.9981WARNING:tensorflow:Early stopping conditioned on metric `val_acc` which is not available. Available metrics are: loss,accuracy,val_loss,val_accuracy\n",
      "WARNING:tensorflow:Can save best model only with val_acc available, skipping.\n",
      "1313/1313 [==============================] - 15s 11ms/step - loss: 0.0057 - accuracy: 0.9981 - val_loss: 0.0578 - val_accuracy: 0.9904\n",
      "Epoch 49/50\n",
      "1312/1313 [============================>.] - ETA: 0s - loss: 0.0062 - accuracy: 0.9980WARNING:tensorflow:Early stopping conditioned on metric `val_acc` which is not available. Available metrics are: loss,accuracy,val_loss,val_accuracy\n",
      "WARNING:tensorflow:Can save best model only with val_acc available, skipping.\n",
      "1313/1313 [==============================] - 15s 11ms/step - loss: 0.0062 - accuracy: 0.9980 - val_loss: 0.0516 - val_accuracy: 0.9912\n",
      "Epoch 50/50\n",
      "1310/1313 [============================>.] - ETA: 0s - loss: 0.0045 - accuracy: 0.9983WARNING:tensorflow:Early stopping conditioned on metric `val_acc` which is not available. Available metrics are: loss,accuracy,val_loss,val_accuracy\n",
      "WARNING:tensorflow:Can save best model only with val_acc available, skipping.\n",
      "1313/1313 [==============================] - 15s 11ms/step - loss: 0.0045 - accuracy: 0.9983 - val_loss: 0.0564 - val_accuracy: 0.9911\n"
     ]
    }
   ],
   "metadata": {}
  },
  {
   "cell_type": "code",
   "execution_count": 21,
   "source": [
    "model_S = keras.models.load_model=(\"E://handwriting//tens//bestmodel.h5\")"
   ],
   "outputs": [],
   "metadata": {}
  },
  {
   "cell_type": "code",
   "execution_count": 25,
   "source": [
    "score = model.evaluate(x_test,y_test)\r\n",
    "\r\n",
    "print(f\"the model accuracy is {score[1]}\")"
   ],
   "outputs": [
    {
     "output_type": "stream",
     "name": "stdout",
     "text": [
      "313/313 [==============================] - 1s 3ms/step - loss: 0.0417 - accuracy: 0.9926\n",
      "the model accuracy is 0.9926000237464905\n"
     ]
    }
   ],
   "metadata": {}
  }
 ],
 "metadata": {
  "orig_nbformat": 4,
  "language_info": {
   "name": "python",
   "version": "3.8.11",
   "mimetype": "text/x-python",
   "codemirror_mode": {
    "name": "ipython",
    "version": 3
   },
   "pygments_lexer": "ipython3",
   "nbconvert_exporter": "python",
   "file_extension": ".py"
  },
  "kernelspec": {
   "name": "python3",
   "display_name": "Python 3.8.11 64-bit ('tensorflow': conda)"
  },
  "interpreter": {
   "hash": "b3c2206ea498d88d87d634ae1dff1e23b34515d6aff17f11080ce3605e402f64"
  }
 },
 "nbformat": 4,
 "nbformat_minor": 2
}